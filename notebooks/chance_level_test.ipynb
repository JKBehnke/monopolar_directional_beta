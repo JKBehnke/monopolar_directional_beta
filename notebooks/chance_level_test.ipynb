{
 "cells": [
  {
   "cell_type": "code",
   "execution_count": 1,
   "metadata": {},
   "outputs": [
    {
     "name": "stdout",
     "output_type": "stream",
     "text": [
      "BinomTestResult(k=27, n=33, alternative='two-sided', statistic=0.8181818181818182, pvalue=0.011779154029925024)\n",
      "(3.0789473684210527, 0.059404524023861066)\n"
     ]
    }
   ],
   "source": [
    "import numpy as np\n",
    "from scipy.stats import chi2_contingency, binomtest, fisher_exact\n",
    "import itertools\n",
    "\n",
    "\n",
    "def calculate_expected_frequency(num_channels, num_draws, num_trials): # use this function to calculate expected matches for: at least one contact, or only maximal contact, but NOT for both contacts matching\n",
    "    # Generate all possible combinations for a single method\n",
    "    combinations = list(itertools.combinations(range(1, num_channels + 1), num_draws))\n",
    "\n",
    "    # Count the number of times at least one ball matches between the two methods\n",
    "    match_count = 0\n",
    "    for combo1 in combinations:\n",
    "        for combo2 in combinations:\n",
    "            if set(combo1) & set(combo2):\n",
    "                match_count += 1\n",
    "\n",
    "    # Total possible outcomes\n",
    "    total_outcomes = len(combinations) ** 2\n",
    "\n",
    "    # Probability of at least one match\n",
    "    match_probability = match_count / total_outcomes\n",
    "\n",
    "    # Expected number of matches in the given number of trials\n",
    "    expected_matches = match_probability * num_trials\n",
    "\n",
    "    return expected_matches\n",
    "\n",
    "\n",
    "def simulate_draws(num_trials, biased=False):\n",
    "    # Number of channels \n",
    "    num_channels = 6\n",
    "\n",
    "    # Adjust probabilities for biased scenario\n",
    "    if biased:\n",
    "        probabilities = [0.01, 0.04, 0.1, 0.15, 0.3, 0.4]  # Adjust these values as needed\n",
    "    else:\n",
    "        probabilities = [1/num_channels] * num_channels\n",
    "\n",
    "    # Count of trials where at least one ball matches between the two methods\n",
    "    match_count = 0\n",
    "\n",
    "    for _ in range(num_trials):\n",
    "        # Draw two channels from the first method\n",
    "        channels_first_method = np.random.choice(range(1, num_channels + 1), size=2, replace=False, p=probabilities)\n",
    "\n",
    "        # Draw two channels from the second method\n",
    "        channels_second_method = np.random.choice(range(1, num_channels + 1), size=2, replace=False, p=probabilities)\n",
    "\n",
    "        # Check for matches\n",
    "        if len(set(channels_first_method) & set(channels_second_method)) > 0:\n",
    "            match_count += 1\n",
    "\n",
    "    return match_count\n",
    "\n",
    "\n",
    "# Calculate the expected frequency of matches\n",
    "num_channels = 6  # Number of channels \n",
    "num_draws = 2  # Number of channels drawn \n",
    "num_trials = 33  # Number of trials\n",
    "expected_matches = calculate_expected_frequency(num_channels, num_draws, num_trials)\n",
    "\n",
    "\n",
    "# Simulate the experiment for biased probability scenario \n",
    "# this is assuming tmethod both methods are more likely to pick certain channels\n",
    "observed_matches = 27 # simulate_draws(num_trials, biased=True)\n",
    "\n",
    "# Expected frequency for no matches\n",
    "expected_no_matches = num_trials - expected_matches\n",
    "\n",
    "# Observed frequency for no matches\n",
    "observed_no_matches = num_trials - observed_matches\n",
    "\n",
    "# Chi-Square Test\n",
    "observed = [observed_matches, observed_no_matches]\n",
    "expected = [expected_matches, expected_no_matches]\n",
    "chi2, p_value = chi2_contingency([observed, expected])[:2]\n",
    "\n",
    "print(binomtest(observed_matches, num_trials, expected_matches / num_trials))\n",
    "print(fisher_exact([observed, expected])[:2])\n",
    "\n"
   ]
  },
  {
   "cell_type": "code",
   "execution_count": 17,
   "metadata": {},
   "outputs": [
    {
     "data": {
      "text/plain": [
       "0.008503275649204427"
      ]
     },
     "execution_count": 17,
     "metadata": {},
     "output_type": "execute_result"
    }
   ],
   "source": [
    "p_value"
   ]
  },
  {
   "cell_type": "code",
   "execution_count": 24,
   "metadata": {},
   "outputs": [
    {
     "data": {
      "text/plain": [
       "[(1,), (2,), (3,), (4,), (5,), (6,)]"
      ]
     },
     "execution_count": 24,
     "metadata": {},
     "output_type": "execute_result"
    }
   ],
   "source": [
    "num_channels = 6\n",
    "num_draws = 1\n",
    "# from 6 channels each, 2 are chosen from each side\n",
    "\n",
    "list(itertools.combinations(range(1, num_channels + 1), num_draws))\n",
    "\n",
    "# 15*15 = 225 options"
   ]
  },
  {
   "cell_type": "code",
   "execution_count": 8,
   "metadata": {},
   "outputs": [],
   "source": [
    "# counting how often there will be at least one matching for the given number of trials\n",
    "\n",
    "match_count = 0\n",
    "for combo1 in combinations:\n",
    "    for combo2 in combinations:\n",
    "        if set(combo1) & set(combo2):\n",
    "            match_count += 1"
   ]
  },
  {
   "cell_type": "code",
   "execution_count": 9,
   "metadata": {},
   "outputs": [
    {
     "data": {
      "text/plain": [
       "135"
      ]
     },
     "execution_count": 9,
     "metadata": {},
     "output_type": "execute_result"
    }
   ],
   "source": [
    "match_count # 135 / 225 = 0.6   "
   ]
  },
  {
   "cell_type": "code",
   "execution_count": 11,
   "metadata": {},
   "outputs": [
    {
     "data": {
      "text/plain": [
       "19.8"
      ]
     },
     "execution_count": 11,
     "metadata": {},
     "output_type": "execute_result"
    }
   ],
   "source": [
    "expected_matches \n"
   ]
  },
  {
   "attachments": {},
   "cell_type": "markdown",
   "metadata": {},
   "source": [
    "AT LEAST ONE MATCHING"
   ]
  },
  {
   "cell_type": "code",
   "execution_count": 36,
   "metadata": {},
   "outputs": [
    {
     "name": "stdout",
     "output_type": "stream",
     "text": [
      "expected matches: 18.599999999999998\n",
      "chance level: 0.6\n"
     ]
    }
   ],
   "source": [
    "# Generate all possible combinations for a single method\n",
    "num_channels = 6  # Number of channels (= segmented contacts)\n",
    "num_draws = 2  # Number of channels drawn  (= two maximal beta contacts selected)\n",
    "num_trials = 31  # Number of trials (= sample size of hemispheres)\n",
    "\n",
    "combinations = list(itertools.combinations(range(1, num_channels + 1), num_draws)) # possible contacts to select per method\n",
    "\n",
    "# Count the number of times at least one ball matches between the two methods\n",
    "match_count = 0\n",
    "for combo1 in combinations:\n",
    "    for combo2 in combinations:\n",
    "        if set(combo1) & set(combo2):\n",
    "            match_count += 1\n",
    "\n",
    "# Total possible outcomes\n",
    "total_outcomes = len(combinations) ** 2 #total combinations when two contacts are selected per method\n",
    "\n",
    "# Probability of at least one match\n",
    "match_probability = match_count / total_outcomes # match_count = possibilities that at least one selected contact matches with the other selected contacts\n",
    "\n",
    "# Expected number of matches in the given number of trials\n",
    "expected_matches = match_probability * num_trials\n",
    "\n",
    "print(f\"expected matches: {expected_matches}\")\n",
    "\n",
    "# calculate chance level: \n",
    "chance_level = expected_matches/num_trials\n",
    "print(f\"chance level: {chance_level}\")"
   ]
  },
  {
   "cell_type": "code",
   "execution_count": 17,
   "metadata": {},
   "outputs": [
    {
     "name": "stdout",
     "output_type": "stream",
     "text": [
      "(3.2724086387299645, 0.07045411061534937)\n",
      "BinomTestResult(k=26, n=31, alternative='two-sided', statistic=0.8387096774193549, pvalue=0.005654695665952473)\n",
      "(3.466666666666667, 0.0485513975824021)\n",
      "binom p value as float:  0.00565\n"
     ]
    }
   ],
   "source": [
    "# Calculate the expected frequency of matches\n",
    "num_channels = 6  # Number of channels \n",
    "num_draws = 2  # Number of channels drawn \n",
    "num_trials = 31  # Number of trials\n",
    "expected_matches = calculate_expected_frequency(num_channels, num_draws, num_trials)\n",
    "\n",
    "\n",
    "# Simulate the experiment for biased probability scenario \n",
    "# this is assuming tmethod both methods are more likely to pick certain channels\n",
    "observed_matches = 26 # simulate_draws(num_trials, biased=True)\n",
    "\n",
    "# Expected frequency for no matches\n",
    "expected_no_matches = num_trials - expected_matches\n",
    "\n",
    "# Observed frequency for no matches\n",
    "observed_no_matches = num_trials - observed_matches\n",
    "\n",
    "# Chi-Square Test\n",
    "observed = [observed_matches, observed_no_matches]\n",
    "expected = [expected_matches, expected_no_matches]\n",
    "chi2, p_value = chi2_contingency([observed, expected])[:2]\n",
    "\n",
    "print(chi2_contingency([observed, expected])[:2])\n",
    "print(binomtest(observed_matches, num_trials, expected_matches / num_trials))\n",
    "print(fisher_exact([observed, expected])[:2])\n",
    "\n",
    "binom_result = binomtest(observed_matches, num_trials, expected_matches / num_trials)\n",
    "binom_pvalue = binom_result.pvalue\n",
    "\n",
    "print(f\"binom p value as float: {binom_pvalue: .5f}\")\n"
   ]
  },
  {
   "attachments": {},
   "cell_type": "markdown",
   "metadata": {},
   "source": [
    "BOTH MATCHING"
   ]
  },
  {
   "cell_type": "code",
   "execution_count": 23,
   "metadata": {},
   "outputs": [
    {
     "name": "stdout",
     "output_type": "stream",
     "text": [
      "225\n"
     ]
    }
   ],
   "source": [
    "# expected matches = match_probability * num_trials\n",
    "# match_probability = match_count / total_outcomes\n",
    "num_channels = 6\n",
    "num_draws = 2\n",
    "# from 6 channels each, 2 are chosen from each side\n",
    "\n",
    "possibilities_one_method = list(itertools.combinations(range(1, num_channels + 1), num_draws)) # outcome: 15\n",
    "possibilities_one_method = len(possibilities_one_method)\n",
    "total_outcomes = possibilities_one_method * possibilities_one_method # 15*15 = 225 options\n",
    "print(total_outcomes)"
   ]
  },
  {
   "cell_type": "code",
   "execution_count": 12,
   "metadata": {},
   "outputs": [
    {
     "name": "stdout",
     "output_type": "stream",
     "text": [
      "(6.102861035422344, 0.013496320200039548)\n",
      "BinomTestResult(k=11, n=31, alternative='two-sided', statistic=0.3548387096774194, pvalue=2.7899365450284087e-06)\n",
      "(7.7, 0.010580675964195579)\n",
      "binom p value as float:  0.00000\n"
     ]
    }
   ],
   "source": [
    "\n",
    "# Calculate the expected frequency of matches\n",
    "num_channels = 6  # Number of channels (= segmented contacts)\n",
    "num_draws = 2  # Number of channels drawn  (= maximal beta contacts selected)\n",
    "num_trials = 31  # Number of trials (= sample size of hemispheres)\n",
    "expected_matches =  (15/225) * num_trials  # calculate_expected_frequency(num_channels, num_draws, num_trials)\n",
    "\n",
    "\n",
    "# Simulate the experiment for biased probability scenario \n",
    "# this is assuming that both methods are more likely to pick certain channels\n",
    "observed_matches = 11 # simulate_draws(num_trials, biased=True)\n",
    "\n",
    "# Expected frequency for no matches\n",
    "expected_no_matches = num_trials - expected_matches\n",
    "\n",
    "# Observed frequency for no matches\n",
    "observed_no_matches = num_trials - observed_matches\n",
    "\n",
    "# Chi-Square Test\n",
    "observed = [observed_matches, observed_no_matches]\n",
    "expected = [expected_matches, expected_no_matches]\n",
    "chi2, p_value = chi2_contingency([observed, expected])[:2]\n",
    "\n",
    "print(chi2_contingency([observed, expected])[:2])\n",
    "print(binomtest(observed_matches, num_trials, expected_matches / num_trials))\n",
    "print(fisher_exact([observed, expected])[:2])\n",
    "\n",
    "binom_result = binomtest(observed_matches, num_trials, expected_matches / num_trials)\n",
    "binom_pvalue = binom_result.pvalue\n",
    "\n",
    "print(f\"binom p value as float: {binom_pvalue: .5f}\")\n",
    "\n"
   ]
  },
  {
   "cell_type": "code",
   "execution_count": 13,
   "metadata": {},
   "outputs": [
    {
     "name": "stdout",
     "output_type": "stream",
     "text": [
      "2.0666666666666664\n",
      "0.06666666666666667\n"
     ]
    }
   ],
   "source": [
    "print(expected_matches)\n",
    "\n",
    "# calculate chance level: \n",
    "chance_level = expected_matches/num_trials\n",
    "print(chance_level)"
   ]
  },
  {
   "cell_type": "code",
   "execution_count": 23,
   "metadata": {},
   "outputs": [
    {
     "data": {
      "text/plain": [
       "0.06666666666666667"
      ]
     },
     "execution_count": 23,
     "metadata": {},
     "output_type": "execute_result"
    }
   ],
   "source": [
    "15/225"
   ]
  },
  {
   "attachments": {},
   "cell_type": "markdown",
   "metadata": {},
   "source": [
    "MAXIMAL BETA CONTACT MATCHING"
   ]
  },
  {
   "cell_type": "code",
   "execution_count": 35,
   "metadata": {},
   "outputs": [
    {
     "name": "stdout",
     "output_type": "stream",
     "text": [
      "expected matches: 5.166666666666666\n",
      "chance level: 0.16666666666666666\n"
     ]
    }
   ],
   "source": [
    "# Generate all possible combinations for a single method\n",
    "num_channels = 6  # Number of channels (= segmented contacts)\n",
    "num_draws = 1  # Number of channels drawn  (= maximal beta contacts selected)\n",
    "num_trials = 31  # Number of trials (= sample size of hemispheres)\n",
    "\n",
    "combinations = list(itertools.combinations(range(1, num_channels + 1), num_draws)) # 6 possible contacts to select per method\n",
    "\n",
    "# Count the number of times at least one ball matches between the two methods\n",
    "match_count = 0\n",
    "for combo1 in combinations:\n",
    "    for combo2 in combinations:\n",
    "        if set(combo1) & set(combo2):\n",
    "            match_count += 1\n",
    "\n",
    "# Total possible outcomes\n",
    "total_outcomes = len(combinations) ** 2 # 6 * 6 = 36 total combinations when one contact is selected per method\n",
    "\n",
    "# Probability of at least one match\n",
    "match_probability = match_count / total_outcomes # match_count = 6 possibilities that the one selected contact matches with the other selected contact\n",
    "# match_probability = 0.16666666\n",
    "\n",
    "# Expected number of matches in the given number of trials\n",
    "expected_matches = match_probability * num_trials\n",
    "\n",
    "print(f\"expected matches: {expected_matches}\")\n",
    "\n",
    "# calculate chance level: \n",
    "chance_level = expected_matches/num_trials\n",
    "print(f\"chance level: {chance_level}\")\n"
   ]
  },
  {
   "cell_type": "code",
   "execution_count": 40,
   "metadata": {},
   "outputs": [
    {
     "name": "stdout",
     "output_type": "stream",
     "text": [
      "(6.936268680700628, 0.008446513012562095)\n",
      "BinomTestResult(k=16, n=31, alternative='two-sided', statistic=0.5161290322580645, pvalue=8.35402460027691e-06)\n",
      "(5.333333333333333, 0.006561081008931337)\n",
      "binom p value as float:  0.000008\n"
     ]
    }
   ],
   "source": [
    "\n",
    "# Calculate the expected frequency of matches\n",
    "num_channels = 6  # Number of channels (= segmented contacts)\n",
    "num_draws = 1  # Number of channels drawn  (= maximal beta contacts selected)\n",
    "num_trials = 31  # Number of trials (= sample size of hemispheres)\n",
    "expected_matches =  calculate_expected_frequency(num_channels, num_draws, num_trials) # calculate_expected_frequency(num_channels, num_draws, num_trials)\n",
    "\n",
    "\n",
    "# Simulate the experiment for biased probability scenario \n",
    "# this is assuming that both methods are more likely to pick certain channels\n",
    "observed_matches = 16 # simulate_draws(num_trials, biased=True)\n",
    "\n",
    "# Expected frequency for no matches\n",
    "expected_no_matches = num_trials - expected_matches\n",
    "\n",
    "# Observed frequency for no matches\n",
    "observed_no_matches = num_trials - observed_matches\n",
    "\n",
    "# Chi-Square Test\n",
    "observed = [observed_matches, observed_no_matches]\n",
    "expected = [expected_matches, expected_no_matches]\n",
    "chi2, p_value = chi2_contingency([observed, expected])[:2]\n",
    "\n",
    "print(chi2_contingency([observed, expected])[:2])\n",
    "print(binomtest(observed_matches, num_trials, expected_matches / num_trials))\n",
    "print(fisher_exact([observed, expected])[:2])\n",
    "\n",
    "binom_result = binomtest(observed_matches, num_trials, expected_matches / num_trials)\n",
    "binom_pvalue = binom_result.pvalue\n",
    "\n",
    "print(f\"binom p value as float: {binom_pvalue: .6f}\")\n"
   ]
  },
  {
   "attachments": {},
   "cell_type": "markdown",
   "metadata": {},
   "source": []
  }
 ],
 "metadata": {
  "kernelspec": {
   "display_name": "bssu",
   "language": "python",
   "name": "python3"
  },
  "language_info": {
   "codemirror_mode": {
    "name": "ipython",
    "version": 3
   },
   "file_extension": ".py",
   "mimetype": "text/x-python",
   "name": "python",
   "nbconvert_exporter": "python",
   "pygments_lexer": "ipython3",
   "version": "3.11.3"
  },
  "orig_nbformat": 4
 },
 "nbformat": 4,
 "nbformat_minor": 2
}
