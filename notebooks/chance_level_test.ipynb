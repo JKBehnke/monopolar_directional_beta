{
 "cells": [
  {
   "cell_type": "code",
   "execution_count": 2,
   "metadata": {},
   "outputs": [
    {
     "name": "stdout",
     "output_type": "stream",
     "text": [
      "BinomTestResult(k=27, n=33, alternative='two-sided', statistic=0.8181818181818182, pvalue=0.011779154029925024)\n",
      "(3.0789473684210527, 0.059404524023861066)\n"
     ]
    }
   ],
   "source": [
    "import numpy as np\n",
    "from scipy.stats import chi2_contingency, binomtest, fisher_exact\n",
    "import itertools\n",
    "\n",
    "\n",
    "def calculate_expected_frequency(num_channels, num_draws, num_trials):\n",
    "    # Generate all possible combinations for a single method\n",
    "    combinations = list(itertools.combinations(range(1, num_channels + 1), num_draws))\n",
    "\n",
    "    # Count the number of times at least one ball matches between the two methods\n",
    "    match_count = 0\n",
    "    for combo1 in combinations:\n",
    "        for combo2 in combinations:\n",
    "            if set(combo1) & set(combo2):\n",
    "                match_count += 1\n",
    "\n",
    "    # Total possible outcomes\n",
    "    total_outcomes = len(combinations) ** 2\n",
    "\n",
    "    # Probability of at least one match\n",
    "    match_probability = match_count / total_outcomes\n",
    "\n",
    "    # Expected number of matches in the given number of trials\n",
    "    expected_matches = match_probability * num_trials\n",
    "\n",
    "    return expected_matches\n",
    "\n",
    "\n",
    "def simulate_draws(num_trials, biased=False):\n",
    "    # Number of channels \n",
    "    num_channels = 6\n",
    "\n",
    "    # Adjust probabilities for biased scenario\n",
    "    if biased:\n",
    "        probabilities = [0.01, 0.04, 0.1, 0.15, 0.3, 0.4]  # Adjust these values as needed\n",
    "    else:\n",
    "        probabilities = [1/num_channels] * num_channels\n",
    "\n",
    "    # Count of trials where at least one ball matches between the two methods\n",
    "    match_count = 0\n",
    "\n",
    "    for _ in range(num_trials):\n",
    "        # Draw two channels from the first method\n",
    "        channels_first_method = np.random.choice(range(1, num_channels + 1), size=2, replace=False, p=probabilities)\n",
    "\n",
    "        # Draw two channels from the second method\n",
    "        channels_second_method = np.random.choice(range(1, num_channels + 1), size=2, replace=False, p=probabilities)\n",
    "\n",
    "        # Check for matches\n",
    "        if len(set(channels_first_method) & set(channels_second_method)) > 0:\n",
    "            match_count += 1\n",
    "\n",
    "    return match_count\n",
    "\n",
    "\n",
    "# Calculate the expected frequency of matches\n",
    "num_channels = 6  # Number of channels \n",
    "num_draws = 2  # Number of channels drawn \n",
    "num_trials = 33  # Number of trials\n",
    "expected_matches = calculate_expected_frequency(num_channels, num_draws, num_trials)\n",
    "\n",
    "\n",
    "# Simulate the experiment for biased probability scenario \n",
    "# this is assuming tmethod both methods are more likely to pick certain channels\n",
    "observed_matches = 27 # simulate_draws(num_trials, biased=True)\n",
    "\n",
    "# Expected frequency for no matches\n",
    "expected_no_matches = num_trials - expected_matches\n",
    "\n",
    "# Observed frequency for no matches\n",
    "observed_no_matches = num_trials - observed_matches\n",
    "\n",
    "# Chi-Square Test\n",
    "observed = [observed_matches, observed_no_matches]\n",
    "expected = [expected_matches, expected_no_matches]\n",
    "chi2, p_value = chi2_contingency([observed, expected])[:2]\n",
    "\n",
    "print(binomtest(observed_matches, num_trials, expected_matches / num_trials))\n",
    "print(fisher_exact([observed, expected])[:2])\n",
    "\n"
   ]
  },
  {
   "cell_type": "code",
   "execution_count": 17,
   "metadata": {},
   "outputs": [
    {
     "data": {
      "text/plain": [
       "0.008503275649204427"
      ]
     },
     "execution_count": 17,
     "metadata": {},
     "output_type": "execute_result"
    }
   ],
   "source": [
    "p_value"
   ]
  },
  {
   "cell_type": "code",
   "execution_count": 10,
   "metadata": {},
   "outputs": [
    {
     "data": {
      "text/plain": [
       "[(1, 2),\n",
       " (1, 3),\n",
       " (1, 4),\n",
       " (1, 5),\n",
       " (1, 6),\n",
       " (2, 3),\n",
       " (2, 4),\n",
       " (2, 5),\n",
       " (2, 6),\n",
       " (3, 4),\n",
       " (3, 5),\n",
       " (3, 6),\n",
       " (4, 5),\n",
       " (4, 6),\n",
       " (5, 6)]"
      ]
     },
     "execution_count": 10,
     "metadata": {},
     "output_type": "execute_result"
    }
   ],
   "source": [
    "list(itertools.combinations(range(1, num_channels + 1), num_draws))\n",
    "\n",
    "# 15*15 = 225 options"
   ]
  },
  {
   "cell_type": "code",
   "execution_count": 8,
   "metadata": {},
   "outputs": [],
   "source": [
    "# counting how often there will be at least one matching for the given number of trials\n",
    "\n",
    "match_count = 0\n",
    "for combo1 in combinations:\n",
    "    for combo2 in combinations:\n",
    "        if set(combo1) & set(combo2):\n",
    "            match_count += 1"
   ]
  },
  {
   "cell_type": "code",
   "execution_count": 9,
   "metadata": {},
   "outputs": [
    {
     "data": {
      "text/plain": [
       "135"
      ]
     },
     "execution_count": 9,
     "metadata": {},
     "output_type": "execute_result"
    }
   ],
   "source": [
    "match_count # 135 / 225 = 0.6   "
   ]
  },
  {
   "cell_type": "code",
   "execution_count": 11,
   "metadata": {},
   "outputs": [
    {
     "data": {
      "text/plain": [
       "19.8"
      ]
     },
     "execution_count": 11,
     "metadata": {},
     "output_type": "execute_result"
    }
   ],
   "source": [
    "expected_matches \n"
   ]
  },
  {
   "attachments": {},
   "cell_type": "markdown",
   "metadata": {},
   "source": [
    "AT LEAST ONE MATCHING"
   ]
  },
  {
   "cell_type": "code",
   "execution_count": 72,
   "metadata": {},
   "outputs": [
    {
     "name": "stdout",
     "output_type": "stream",
     "text": [
      "(0.003714961161769646, 0.9513986459408449)\n",
      "BinomTestResult(k=12, n=22, alternative='two-sided', statistic=0.5454545454545454, pvalue=0.6654707643335782)\n",
      "(0.7384615384615385, 0.7596704429215755)\n"
     ]
    }
   ],
   "source": [
    "# Calculate the expected frequency of matches\n",
    "num_channels = 6  # Number of channels \n",
    "num_draws = 2  # Number of channels drawn \n",
    "num_trials = 22  # Number of trials\n",
    "expected_matches = calculate_expected_frequency(num_channels, num_draws, num_trials)\n",
    "\n",
    "\n",
    "# Simulate the experiment for biased probability scenario \n",
    "# this is assuming tmethod both methods are more likely to pick certain channels\n",
    "observed_matches = 12 # simulate_draws(num_trials, biased=True)\n",
    "\n",
    "# Expected frequency for no matches\n",
    "expected_no_matches = num_trials - expected_matches\n",
    "\n",
    "# Observed frequency for no matches\n",
    "observed_no_matches = num_trials - observed_matches\n",
    "\n",
    "# Chi-Square Test\n",
    "observed = [observed_matches, observed_no_matches]\n",
    "expected = [expected_matches, expected_no_matches]\n",
    "chi2, p_value = chi2_contingency([observed, expected])[:2]\n",
    "\n",
    "print(chi2_contingency([observed, expected])[:2])\n",
    "print(binomtest(observed_matches, num_trials, expected_matches / num_trials))\n",
    "print(fisher_exact([observed, expected])[:2])\n"
   ]
  },
  {
   "attachments": {},
   "cell_type": "markdown",
   "metadata": {},
   "source": [
    "BOTH MATCHING"
   ]
  },
  {
   "cell_type": "code",
   "execution_count": 96,
   "metadata": {},
   "outputs": [
    {
     "name": "stdout",
     "output_type": "stream",
     "text": [
      "(0.15360501567398113, 0.6951138094753727)\n",
      "BinomTestResult(k=0, n=22, alternative='two-sided', statistic=0.0, pvalue=0.3972436705574874)\n",
      "(0.0, 0.48837209302325574)\n"
     ]
    }
   ],
   "source": [
    "\n",
    "# Calculate the expected frequency of matches\n",
    "num_channels = 6  # Number of channels \n",
    "num_draws = 2  # Number of channels drawn \n",
    "num_trials = 22  # Number of trials\n",
    "expected_matches =  (15/225) * num_trials  # calculate_expected_frequency(num_channels, num_draws, num_trials)\n",
    "\n",
    "\n",
    "# Simulate the experiment for biased probability scenario \n",
    "# this is assuming tmethod both methods are more likely to pick certain channels\n",
    "observed_matches = 0 # simulate_draws(num_trials, biased=True)\n",
    "\n",
    "# Expected frequency for no matches\n",
    "expected_no_matches = num_trials - expected_matches\n",
    "\n",
    "# Observed frequency for no matches\n",
    "observed_no_matches = num_trials - observed_matches\n",
    "\n",
    "# Chi-Square Test\n",
    "observed = [observed_matches, observed_no_matches]\n",
    "expected = [expected_matches, expected_no_matches]\n",
    "chi2, p_value = chi2_contingency([observed, expected])[:2]\n",
    "\n",
    "print(chi2_contingency([observed, expected])[:2])\n",
    "print(binomtest(observed_matches, num_trials, expected_matches / num_trials))\n",
    "print(fisher_exact([observed, expected])[:2])\n",
    "\n"
   ]
  },
  {
   "cell_type": "code",
   "execution_count": 18,
   "metadata": {},
   "outputs": [
    {
     "data": {
      "text/plain": [
       "1.7333333333333334"
      ]
     },
     "execution_count": 18,
     "metadata": {},
     "output_type": "execute_result"
    }
   ],
   "source": [
    "expected_matches"
   ]
  },
  {
   "cell_type": "code",
   "execution_count": 23,
   "metadata": {},
   "outputs": [
    {
     "data": {
      "text/plain": [
       "0.06666666666666667"
      ]
     },
     "execution_count": 23,
     "metadata": {},
     "output_type": "execute_result"
    }
   ],
   "source": [
    "15/225"
   ]
  },
  {
   "attachments": {},
   "cell_type": "markdown",
   "metadata": {},
   "source": []
  }
 ],
 "metadata": {
  "kernelspec": {
   "display_name": "bssu",
   "language": "python",
   "name": "python3"
  },
  "language_info": {
   "codemirror_mode": {
    "name": "ipython",
    "version": 3
   },
   "file_extension": ".py",
   "mimetype": "text/x-python",
   "name": "python",
   "nbconvert_exporter": "python",
   "pygments_lexer": "ipython3",
   "version": "3.11.3"
  },
  "orig_nbformat": 4
 },
 "nbformat": 4,
 "nbformat_minor": 2
}
